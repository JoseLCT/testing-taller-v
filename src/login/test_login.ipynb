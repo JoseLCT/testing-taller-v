{
 "cells": [
  {
   "cell_type": "code",
   "execution_count": null,
   "metadata": {},
   "outputs": [
    {
     "name": "stderr",
     "output_type": "stream",
     "text": [
      "\n",
      "Running tests... \n",
      "----------------------------------------------------------------------\n",
      " test_login (__main__.TestLogin.test_login) ... OK (12.693095)s\n",
      "\n",
      "----------------------------------------------------------------------\n",
      "Ran 1 test in 0:00:14\n",
      "\n",
      "OK\n",
      "\n",
      "\n",
      "\n",
      "Generating HTML reports... \n",
      "reports\\TestResults___main__.TestLogin_2024-11-06_01-45-55.html\n"
     ]
    }
   ],
   "source": [
    "import os\n",
    "import unittest\n",
    "from selenium import webdriver\n",
    "from selenium.webdriver.common.keys import Keys\n",
    "from selenium.webdriver.common.by import By\n",
    "from selenium.webdriver.support.wait import WebDriverWait\n",
    "from selenium.webdriver.support import expected_conditions as EC\n",
    "import time as timer\n",
    "import HtmlTestRunner\n",
    "\n",
    "\n",
    "class TestLogin(unittest.TestCase):\n",
    "    def setUp(self):\n",
    "        self.driver = webdriver.Chrome()\n",
    "        self.driver.get(\"https://tartesain.com\")\n",
    "        self.driver.maximize_window()\n",
    "        os.makedirs('img', exist_ok=True)\n",
    "        self.i = 0\n",
    "\n",
    "    def save_screenshot(self):\n",
    "        self.driver.save_screenshot(f\"img/test_{self.i}.png\")\n",
    "        self.i += 1\n",
    "\n",
    "    def test_login(self):\n",
    "        timer.sleep(2)\n",
    "        self.save_screenshot()\n",
    "\n",
    "        # Paso 1: Navegar a la página de inicio de sesión\n",
    "        auth_link = self.driver.find_element(By.ID, \"menu-link-user\")\n",
    "        auth_link.click()\n",
    "\n",
    "        timer.sleep(2)\n",
    "        self.assertIn(\"https://tartesain.com/iniciar-sesion\", self.driver.current_url)\n",
    "        self.save_screenshot()\n",
    "\n",
    "        # Paso 2: Ingresar el correo\n",
    "        email = self.driver.find_element(By.ID, \"input-email\")\n",
    "        email.send_keys(\"test@gmail.com\")\n",
    "        self.save_screenshot()\n",
    "        timer.sleep(1)\n",
    "\n",
    "        # Paso 3: Ingresar la contraseña\n",
    "        password = self.driver.find_element(By.ID, \"input-password\")\n",
    "        password.send_keys(\"12345678\")\n",
    "        self.save_screenshot()\n",
    "        timer.sleep(1)\n",
    "\n",
    "        # Paso 4: Dar clic en el botón de inicio de sesión\n",
    "        phone = self.driver.find_element(By.ID, \"btn-login\")\n",
    "        phone.click()\n",
    "\n",
    "        timer.sleep(2)\n",
    "        self.assertIn(\"https://tartesain.com/perfil\", self.driver.current_url)\n",
    "        self.save_screenshot()\n",
    "        timer.sleep(1)\n",
    "\n",
    "\n",
    "    def tearDown(self):\n",
    "        self.driver.close()\n",
    "\n",
    "\n",
    "if __name__ == \"__main__\":\n",
    "    with open(\"report_login.html\", \"w\") as file:\n",
    "        runner = HtmlTestRunner.HTMLTestRunner(output='reports', verbosity=2)\n",
    "        runner.run(unittest.TestLoader().loadTestsFromTestCase(TestLogin))"
   ]
  }
 ],
 "metadata": {
  "kernelspec": {
   "display_name": ".venv",
   "language": "python",
   "name": "python3"
  },
  "language_info": {
   "codemirror_mode": {
    "name": "ipython",
    "version": 3
   },
   "file_extension": ".py",
   "mimetype": "text/x-python",
   "name": "python",
   "nbconvert_exporter": "python",
   "pygments_lexer": "ipython3",
   "version": "3.12.6"
  }
 },
 "nbformat": 4,
 "nbformat_minor": 2
}
